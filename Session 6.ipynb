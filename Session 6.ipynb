{
 "cells": [
  {
   "cell_type": "markdown",
   "metadata": {},
   "source": [
    "# Session 6"
   ]
  },
  {
   "cell_type": "markdown",
   "metadata": {},
   "source": [
    "## Use of Numpy Library\n"
   ]
  },
  {
   "cell_type": "markdown",
   "metadata": {},
   "source": [
    "### sin x"
   ]
  },
  {
   "cell_type": "code",
   "execution_count": 15,
   "metadata": {},
   "outputs": [
    {
     "data": {
      "text/plain": [
       "0.8939966636005579"
      ]
     },
     "execution_count": 15,
     "metadata": {},
     "output_type": "execute_result"
    }
   ],
   "source": [
    "import numpy as np\n",
    "\n",
    "def sin_x(x):\n",
    "    return np.sin(x)\n",
    "\n",
    "sin_x(90)"
   ]
  },
  {
   "cell_type": "code",
   "execution_count": 11,
   "metadata": {},
   "outputs": [
    {
     "data": {
      "text/plain": [
       "1.0"
      ]
     },
     "execution_count": 11,
     "metadata": {},
     "output_type": "execute_result"
    }
   ],
   "source": [
    "import numpy as np\n",
    "\n",
    "def sin_x(x):\n",
    "    # Convert degrees to radians\n",
    "    radians = np.radians(x)\n",
    "    return np.sin(radians)\n",
    "\n",
    "sin_x(90)"
   ]
  },
  {
   "cell_type": "markdown",
   "metadata": {},
   "source": [
    "### cos x"
   ]
  },
  {
   "cell_type": "code",
   "execution_count": 5,
   "metadata": {},
   "outputs": [],
   "source": [
    "def cos_x(x):\n",
    "    return np.cos(x)\n"
   ]
  },
  {
   "cell_type": "markdown",
   "metadata": {},
   "source": [
    "### Tabulating Sin(x) and Cos(x)"
   ]
  },
  {
   "cell_type": "code",
   "execution_count": 7,
   "metadata": {},
   "outputs": [],
   "source": [
    "# Define x values between 0 and 2π with 1000 entries\n",
    "x_values = np.linspace(0, 2 * np.pi, 1000)\n",
    "\n",
    "# Calculate sin(x) and cos(x) for each value of x\n",
    "sin_values = sin_x(x_values)\n",
    "cos_values = cos_x(x_values)"
   ]
  },
  {
   "cell_type": "markdown",
   "metadata": {},
   "source": [
    "### Print first 10 Value"
   ]
  },
  {
   "cell_type": "code",
   "execution_count": 8,
   "metadata": {},
   "outputs": [
    {
     "name": "stdout",
     "output_type": "stream",
     "text": [
      " x        | sin(x)   | cos(x)\n",
      "------------------------------\n",
      "0.0000 | 0.0000 | 1.0000\n",
      "0.0063 | 0.0063 | 1.0000\n",
      "0.0126 | 0.0126 | 0.9999\n",
      "0.0189 | 0.0189 | 0.9998\n",
      "0.0252 | 0.0252 | 0.9997\n",
      "0.0314 | 0.0314 | 0.9995\n",
      "0.0377 | 0.0377 | 0.9993\n",
      "0.0440 | 0.0440 | 0.9990\n",
      "0.0503 | 0.0503 | 0.9987\n",
      "0.0566 | 0.0566 | 0.9984\n"
     ]
    }
   ],
   "source": [
    "print(\" x        | sin(x)   | cos(x)\")\n",
    "print(\"-\" * 30)\n",
    "\n",
    "for i in range(10):\n",
    "    print(f\"{x_values[i]:.4f} | {sin_values[i]:.4f} | {cos_values[i]:.4f}\")\n"
   ]
  },
  {
   "cell_type": "markdown",
   "metadata": {},
   "source": [
    "## Use MATH"
   ]
  },
  {
   "cell_type": "markdown",
   "metadata": {},
   "source": [
    "### sin x"
   ]
  },
  {
   "cell_type": "code",
   "execution_count": 9,
   "metadata": {},
   "outputs": [],
   "source": [
    "import math\n",
    "\n",
    "def sin_x(x):\n",
    "    return math.sin(x)\n"
   ]
  },
  {
   "cell_type": "code",
   "execution_count": 12,
   "metadata": {},
   "outputs": [],
   "source": [
    "def cos_x(x):\n",
    "    return math.cos(x)"
   ]
  },
  {
   "cell_type": "code",
   "execution_count": 13,
   "metadata": {},
   "outputs": [],
   "source": [
    "x_values = [2 * math.pi * i / 999 for i in range(1000)]\n",
    "\n",
    "sin_values = [sin_x(x) for x in x_values]\n",
    "cos_values = [cos_x(x) for x in x_values]"
   ]
  },
  {
   "cell_type": "code",
   "execution_count": 14,
   "metadata": {},
   "outputs": [
    {
     "name": "stdout",
     "output_type": "stream",
     "text": [
      " x        | sin(x)   | cos(x)\n",
      "------------------------------\n",
      "0.0000 | 0.0000 | 1.0000\n",
      "0.0063 | 0.0001 | 1.0000\n",
      "0.0126 | 0.0002 | 0.9999\n",
      "0.0189 | 0.0003 | 0.9998\n",
      "0.0252 | 0.0004 | 0.9997\n",
      "0.0314 | 0.0005 | 0.9995\n",
      "0.0377 | 0.0007 | 0.9993\n",
      "0.0440 | 0.0008 | 0.9990\n",
      "0.0503 | 0.0009 | 0.9987\n",
      "0.0566 | 0.0010 | 0.9984\n"
     ]
    }
   ],
   "source": [
    "print(\" x        | sin(x)   | cos(x)\")\n",
    "print(\"-\" * 30)\n",
    "\n",
    "for i in range(10):\n",
    "    print(f\"{x_values[i]:.4f} | {sin_values[i]:.4f} | {cos_values[i]:.4f}\")"
   ]
  }
 ],
 "metadata": {
  "kernelspec": {
   "display_name": "Python 3",
   "language": "python",
   "name": "python3"
  },
  "language_info": {
   "codemirror_mode": {
    "name": "ipython",
    "version": 3
   },
   "file_extension": ".py",
   "mimetype": "text/x-python",
   "name": "python",
   "nbconvert_exporter": "python",
   "pygments_lexer": "ipython3",
   "version": "3.9.7"
  }
 },
 "nbformat": 4,
 "nbformat_minor": 2
}
