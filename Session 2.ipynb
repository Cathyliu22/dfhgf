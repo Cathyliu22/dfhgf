{
 "cells": [
  {
   "cell_type": "markdown",
   "metadata": {},
   "source": [
    "## Session 2"
   ]
  },
  {
   "cell_type": "code",
   "execution_count": 6,
   "metadata": {},
   "outputs": [
    {
     "name": "stdout",
     "output_type": "stream",
     "text": [
      "Sum of floating point numbers: 6.5\n",
      "Data type: <class 'float'>\n",
      "Difference between integers: 1\n",
      "Data type: <class 'int'>\n",
      "Product of floating point number and integer: 19.5\n",
      "Data type: <class 'float'>\n"
     ]
    }
   ],
   "source": [
    "def main():\n",
    "    float_num1 = 3.7\n",
    "    float_num2 = 2.8\n",
    "    \n",
    "    float_sum = float_num1 + float_num2\n",
    "    print(\"Sum of floating point numbers:\", float_sum)\n",
    "    print(\"Data type:\", type(float_sum))\n",
    "    \n",
    "    int_num1 = 7\n",
    "    int_num2 = 6\n",
    "    \n",
    "    int_difference = int_num1 - int_num2\n",
    "    print(\"Difference between integers:\", int_difference)\n",
    "    print(\"Data type:\", type(int_difference))\n",
    "    \n",
    "    float_num = 6.5\n",
    "    int_num = 3\n",
    "    \n",
    "    product = float_num * int_num\n",
    "    print(\"Product of floating point number and integer:\", product)\n",
    "    print(\"Data type:\", type(product))\n",
    "\n",
    "if __name__ == \"__main__\":\n",
    "    main()"
   ]
  }
 ],
 "metadata": {
  "kernelspec": {
   "display_name": "myenv",
   "language": "python",
   "name": "python3"
  },
  "language_info": {
   "codemirror_mode": {
    "name": "ipython",
    "version": 3
   },
   "file_extension": ".py",
   "mimetype": "text/x-python",
   "name": "python",
   "nbconvert_exporter": "python",
   "pygments_lexer": "ipython3",
   "version": "3.9.6"
  }
 },
 "nbformat": 4,
 "nbformat_minor": 2
}
