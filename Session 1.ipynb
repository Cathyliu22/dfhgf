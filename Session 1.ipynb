{
 "cells": [
  {
   "cell_type": "markdown",
   "metadata": {},
   "source": [
    "## Session 1"
   ]
  },
  {
   "cell_type": "code",
   "execution_count": 8,
   "metadata": {},
   "outputs": [
    {
     "name": "stdout",
     "output_type": "stream",
     "text": [
      "My name is Cathy Liu\n",
      "she/her\n",
      "My favorite movie is The Da Vinci Code\n",
      "The film Da Vinci Code aroused my interest in the religion and history of science, which also prompted me to decide my major direction.\n",
      "My favorite food is Peach\n",
      "Ripe peaches have a soft texture, which not only quenches thirst but also boosts vitamin intake.\n"
     ]
    }
   ],
   "source": [
    "def main():\n",
    "    full_name = \"Cathy Liu\"\n",
    "    pronouns = \"she/her\"\n",
    "    \n",
    "    favorite_movie = \"The Da Vinci Code\"\n",
    "    movie_description = \"The film Da Vinci Code aroused my interest in the religion and history of science, which also prompted me to decide my major direction.\"\n",
    "    \n",
    "    favorite_food = \"Peach\"\n",
    "    food_description = \"Ripe peaches have a soft texture, which not only quenches thirst but also boosts vitamin intake.\"\n",
    "\n",
    "    print(\"My name is\",full_name)\n",
    "    print(pronouns)\n",
    "    print(\"My favorite movie is\", favorite_movie)\n",
    "    print(movie_description)\n",
    "    print(\"My favorite food is\", favorite_food)\n",
    "    print(food_description)\n",
    "\n",
    "if __name__ == \"__main__\":\n",
    "    main()"
   ]
  }
 ],
 "metadata": {
  "kernelspec": {
   "display_name": "myenv",
   "language": "python",
   "name": "python3"
  },
  "language_info": {
   "codemirror_mode": {
    "name": "ipython",
    "version": 3
   },
   "file_extension": ".py",
   "mimetype": "text/x-python",
   "name": "python",
   "nbconvert_exporter": "python",
   "pygments_lexer": "ipython3",
   "version": "3.9.6"
  }
 },
 "nbformat": 4,
 "nbformat_minor": 2
}
